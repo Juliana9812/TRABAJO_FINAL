{
 "cells": [
  {
   "cell_type": "code",
   "execution_count": 1,
   "id": "e358599b-a3d2-4419-b6e2-5532dd24c74f",
   "metadata": {},
   "outputs": [
    {
     "name": "stdout",
     "output_type": "stream",
     "text": [
      "/workspaces/TRABAJO_FINAL/session-01/notebooks\n"
     ]
    }
   ],
   "source": [
    "import os\n",
    "print(os.getcwd())\n"
   ]
  },
  {
   "cell_type": "markdown",
   "id": "ba04a02e",
   "metadata": {},
   "source": [
    "# Sesión 1 – Introducción al Análisis Predictivo\n",
    "### Exploración inicial de datos con Python"
   ]
  },
  {
   "cell_type": "markdown",
   "id": "85f615b4",
   "metadata": {},
   "source": [
    "En esta primera sesión trabajaremos con un conjunto de datos sintéticos para:\n",
    "- Explorar tipos de variables (numéricas y categóricas).\n",
    "- Visualizar distribuciones simples.\n",
    "- Comprender cómo el análisis descriptivo prepara el camino para la predicción.\n"
   ]
  },
  {
   "cell_type": "markdown",
   "id": "6e9d9cab",
   "metadata": {},
   "source": [
    "### Paso 1: Importar librerías"
   ]
  },
  {
   "cell_type": "code",
   "execution_count": 2,
   "id": "08fa947e",
   "metadata": {},
   "outputs": [],
   "source": [
    "import pandas as pd\n",
    "import matplotlib.pyplot as plt"
   ]
  },
  {
   "cell_type": "markdown",
   "id": "c58b89d9",
   "metadata": {},
   "source": [
    "### Paso 2: Cargar el conjunto de datos"
   ]
  },
  {
   "cell_type": "code",
   "execution_count": 3,
   "id": "8730e8e6",
   "metadata": {},
   "outputs": [
    {
     "data": {
      "text/html": [
       "<div>\n",
       "<style scoped>\n",
       "    .dataframe tbody tr th:only-of-type {\n",
       "        vertical-align: middle;\n",
       "    }\n",
       "\n",
       "    .dataframe tbody tr th {\n",
       "        vertical-align: top;\n",
       "    }\n",
       "\n",
       "    .dataframe thead th {\n",
       "        text-align: right;\n",
       "    }\n",
       "</style>\n",
       "<table border=\"1\" class=\"dataframe\">\n",
       "  <thead>\n",
       "    <tr style=\"text-align: right;\">\n",
       "      <th></th>\n",
       "      <th>Genero</th>\n",
       "      <th>popularidad</th>\n",
       "      <th>Acústica</th>\n",
       "      <th>Bailabilidad</th>\n",
       "      <th>Duracion_sg</th>\n",
       "      <th>energía</th>\n",
       "      <th>instrumentalidad</th>\n",
       "      <th>Vitalidad</th>\n",
       "      <th>Escala</th>\n",
       "      <th>%_hablado</th>\n",
       "      <th>tempo (beas por minuto)</th>\n",
       "    </tr>\n",
       "  </thead>\n",
       "  <tbody>\n",
       "    <tr>\n",
       "      <th>0</th>\n",
       "      <td>Movie</td>\n",
       "      <td>0</td>\n",
       "      <td>0,611</td>\n",
       "      <td>0,39</td>\n",
       "      <td>99,373</td>\n",
       "      <td>0,91</td>\n",
       "      <td>0</td>\n",
       "      <td>0,346</td>\n",
       "      <td>Mayor</td>\n",
       "      <td>0,0525</td>\n",
       "      <td>166.969,0</td>\n",
       "    </tr>\n",
       "    <tr>\n",
       "      <th>1</th>\n",
       "      <td>Movie</td>\n",
       "      <td>0,0001</td>\n",
       "      <td>0,246</td>\n",
       "      <td>0,59</td>\n",
       "      <td>137,373</td>\n",
       "      <td>0,737</td>\n",
       "      <td>0</td>\n",
       "      <td>0,151</td>\n",
       "      <td>Menor</td>\n",
       "      <td>0,0868</td>\n",
       "      <td>174.003,0</td>\n",
       "    </tr>\n",
       "    <tr>\n",
       "      <th>2</th>\n",
       "      <td>Movie</td>\n",
       "      <td>0,0003</td>\n",
       "      <td>0,952</td>\n",
       "      <td>0,66</td>\n",
       "      <td>170,267</td>\n",
       "      <td>0,131</td>\n",
       "      <td>0</td>\n",
       "      <td>0,103</td>\n",
       "      <td>Menor</td>\n",
       "      <td>0,0362</td>\n",
       "      <td>99.488,0</td>\n",
       "    </tr>\n",
       "    <tr>\n",
       "      <th>3</th>\n",
       "      <td>Movie</td>\n",
       "      <td>0</td>\n",
       "      <td>0,703</td>\n",
       "      <td>0,24</td>\n",
       "      <td>152,427</td>\n",
       "      <td>0,326</td>\n",
       "      <td>0</td>\n",
       "      <td>0,0985</td>\n",
       "      <td>Mayor</td>\n",
       "      <td>0,0395</td>\n",
       "      <td>171.758,0</td>\n",
       "    </tr>\n",
       "    <tr>\n",
       "      <th>4</th>\n",
       "      <td>Movie</td>\n",
       "      <td>0,0004</td>\n",
       "      <td>0,95</td>\n",
       "      <td>0,33</td>\n",
       "      <td>82,625</td>\n",
       "      <td>0,225</td>\n",
       "      <td>0,123</td>\n",
       "      <td>0,202</td>\n",
       "      <td>Mayor</td>\n",
       "      <td>0,0456</td>\n",
       "      <td>140.576,0</td>\n",
       "    </tr>\n",
       "  </tbody>\n",
       "</table>\n",
       "</div>"
      ],
      "text/plain": [
       "  Genero popularidad Acústica Bailabilidad Duracion_sg energía  \\\n",
       "0  Movie           0    0,611         0,39      99,373    0,91   \n",
       "1  Movie      0,0001    0,246         0,59     137,373   0,737   \n",
       "2  Movie      0,0003    0,952         0,66     170,267   0,131   \n",
       "3  Movie           0    0,703         0,24     152,427   0,326   \n",
       "4  Movie      0,0004     0,95         0,33      82,625   0,225   \n",
       "\n",
       "  instrumentalidad Vitalidad Escala  %_hablado tempo (beas por minuto)  \n",
       "0                0     0,346  Mayor     0,0525               166.969,0  \n",
       "1                0     0,151  Menor     0,0868               174.003,0  \n",
       "2                0     0,103  Menor     0,0362                99.488,0  \n",
       "3                0    0,0985  Mayor     0,0395               171.758,0  \n",
       "4            0,123     0,202  Mayor     0,0456               140.576,0  "
      ]
     },
     "execution_count": 3,
     "metadata": {},
     "output_type": "execute_result"
    }
   ],
   "source": [
    "\n",
    "df = pd.read_csv('../../datos/SPOTIFY.csv',sep=';')\n",
    "df.head()"
   ]
  },
  {
   "cell_type": "markdown",
   "id": "a7e8ba8a",
   "metadata": {},
   "source": [
    "### Paso 3: Revisar estructura del dataset"
   ]
  },
  {
   "cell_type": "code",
   "execution_count": 4,
   "id": "a3f1fc31",
   "metadata": {},
   "outputs": [
    {
     "name": "stdout",
     "output_type": "stream",
     "text": [
      "<class 'pandas.core.frame.DataFrame'>\n",
      "RangeIndex: 232523 entries, 0 to 232522\n",
      "Data columns (total 11 columns):\n",
      " #   Column                   Non-Null Count   Dtype \n",
      "---  ------                   --------------   ----- \n",
      " 0   Genero                   232523 non-null  object\n",
      " 1   popularidad              232523 non-null  object\n",
      " 2   Acústica                 232523 non-null  object\n",
      " 3   Bailabilidad             232523 non-null  object\n",
      " 4   Duracion_sg              232523 non-null  object\n",
      " 5   energía                  232523 non-null  object\n",
      " 6   instrumentalidad         232523 non-null  object\n",
      " 7   Vitalidad                232523 non-null  object\n",
      " 8   Escala                   232523 non-null  object\n",
      " 9   %_hablado                232523 non-null  object\n",
      " 10  tempo (beas por minuto)  232523 non-null  object\n",
      "dtypes: object(11)\n",
      "memory usage: 19.5+ MB\n"
     ]
    }
   ],
   "source": [
    "df.info()"
   ]
  },
  {
   "cell_type": "markdown",
   "id": "df10ec3f",
   "metadata": {},
   "source": [
    "### Paso 4: Descripción estadística general"
   ]
  },
  {
   "cell_type": "code",
   "execution_count": 10,
   "id": "a2bb353d",
   "metadata": {},
   "outputs": [
    {
     "data": {
      "text/html": [
       "<div>\n",
       "<style scoped>\n",
       "    .dataframe tbody tr th:only-of-type {\n",
       "        vertical-align: middle;\n",
       "    }\n",
       "\n",
       "    .dataframe tbody tr th {\n",
       "        vertical-align: top;\n",
       "    }\n",
       "\n",
       "    .dataframe thead th {\n",
       "        text-align: right;\n",
       "    }\n",
       "</style>\n",
       "<table border=\"1\" class=\"dataframe\">\n",
       "  <thead>\n",
       "    <tr style=\"text-align: right;\">\n",
       "      <th></th>\n",
       "      <th>Genero</th>\n",
       "      <th>popularidad</th>\n",
       "      <th>Acústica</th>\n",
       "      <th>Bailabilidad</th>\n",
       "      <th>Duracion_sg</th>\n",
       "      <th>energía</th>\n",
       "      <th>instrumentalidad</th>\n",
       "      <th>Vitalidad</th>\n",
       "      <th>Escala</th>\n",
       "      <th>%_hablado</th>\n",
       "      <th>tempo (beas por minuto)</th>\n",
       "    </tr>\n",
       "  </thead>\n",
       "  <tbody>\n",
       "    <tr>\n",
       "      <th>count</th>\n",
       "      <td>232523</td>\n",
       "      <td>232523</td>\n",
       "      <td>232523</td>\n",
       "      <td>232523</td>\n",
       "      <td>232523</td>\n",
       "      <td>232523</td>\n",
       "      <td>232523</td>\n",
       "      <td>232523</td>\n",
       "      <td>232523</td>\n",
       "      <td>232523</td>\n",
       "      <td>232523</td>\n",
       "    </tr>\n",
       "    <tr>\n",
       "      <th>unique</th>\n",
       "      <td>27</td>\n",
       "      <td>164</td>\n",
       "      <td>4734</td>\n",
       "      <td>94</td>\n",
       "      <td>76827</td>\n",
       "      <td>1000</td>\n",
       "      <td>5400</td>\n",
       "      <td>1732</td>\n",
       "      <td>4</td>\n",
       "      <td>1641</td>\n",
       "      <td>72198</td>\n",
       "    </tr>\n",
       "    <tr>\n",
       "      <th>top</th>\n",
       "      <td>Comedy</td>\n",
       "      <td>0</td>\n",
       "      <td>0,995</td>\n",
       "      <td>0,55</td>\n",
       "      <td>240</td>\n",
       "      <td>0,721</td>\n",
       "      <td>0</td>\n",
       "      <td>0,111</td>\n",
       "      <td>Mayor</td>\n",
       "      <td>0,0374</td>\n",
       "      <td>120,0</td>\n",
       "    </tr>\n",
       "    <tr>\n",
       "      <th>freq</th>\n",
       "      <td>9678</td>\n",
       "      <td>6281</td>\n",
       "      <td>851</td>\n",
       "      <td>4995</td>\n",
       "      <td>135</td>\n",
       "      <td>416</td>\n",
       "      <td>79190</td>\n",
       "      <td>2857</td>\n",
       "      <td>146042</td>\n",
       "      <td>663</td>\n",
       "      <td>332</td>\n",
       "    </tr>\n",
       "  </tbody>\n",
       "</table>\n",
       "</div>"
      ],
      "text/plain": [
       "        Genero popularidad Acústica Bailabilidad Duracion_sg energía  \\\n",
       "count   232523      232523   232523       232523      232523  232523   \n",
       "unique      27         164     4734           94       76827    1000   \n",
       "top     Comedy           0    0,995         0,55         240   0,721   \n",
       "freq      9678        6281      851         4995         135     416   \n",
       "\n",
       "       instrumentalidad Vitalidad Escala  %_hablado tempo (beas por minuto)  \n",
       "count            232523    232523  232523    232523                  232523  \n",
       "unique             5400      1732       4      1641                   72198  \n",
       "top                   0     0,111  Mayor     0,0374                   120,0  \n",
       "freq              79190      2857  146042       663                     332  "
      ]
     },
     "execution_count": 10,
     "metadata": {},
     "output_type": "execute_result"
    }
   ],
   "source": [
    "df.describe(include='all')"
   ]
  },
  {
   "cell_type": "markdown",
   "id": "12b05a4a",
   "metadata": {},
   "source": [
    "## Visualización exploratoria\n",
    "A continuación veremos algunas formas básicas de visualizar nuestros datos."
   ]
  },
  {
   "cell_type": "markdown",
   "id": "1ffb674c",
   "metadata": {},
   "source": [
    "### Gráfico 1: Distribución por Género"
   ]
  },
  {
   "cell_type": "code",
   "execution_count": 7,
   "id": "261dd2e5",
   "metadata": {},
   "outputs": [
    {
     "data": {
      "image/png": "[encoded data removed]",
      "text/plain": [
       "<Figure size 640x480 with 1 Axes>"
      ]
     },
     "metadata": {},
     "output_type": "display_data"
    }
   ],
   "source": [
    "df['Genero'].value_counts().plot(kind='bar', color='orange')\n",
    "plt.title('Distribución por Género')\n",
    "plt.xlabel('Género')\n",
    "plt.ylabel('Frecuencia')\n",
    "plt.show()"
   ]
  },
  {
   "cell_type": "markdown",
   "id": "69e9f497",
   "metadata": {},
   "source": [
    "*Interpretación: Este gráfico nos muestra cuántos casos hay por categoría de género en la base.*"
   ]
  },
  {
   "cell_type": "markdown",
   "id": "f89fc2dc",
   "metadata": {},
   "source": [
    "### Gráfico 2: Histograma de edades"
   ]
  },
  {
   "cell_type": "code",
   "execution_count": 9,
   "id": "31be71b5",
   "metadata": {},
   "outputs": [
    {
     "ename": "TypeError",
     "evalue": "no numeric data to plot",
     "output_type": "error",
     "traceback": [
      "\u001b[31m---------------------------------------------------------------------------\u001b[39m",
      "\u001b[31mTypeError\u001b[39m                                 Traceback (most recent call last)",
      "\u001b[36mCell\u001b[39m\u001b[36m \u001b[39m\u001b[32mIn[9]\u001b[39m\u001b[32m, line 1\u001b[39m\n\u001b[32m----> \u001b[39m\u001b[32m1\u001b[39m \u001b[43mdf\u001b[49m\u001b[43m[\u001b[49m\u001b[33;43m'\u001b[39;49m\u001b[33;43mpopularidad\u001b[39;49m\u001b[33;43m'\u001b[39;49m\u001b[43m]\u001b[49m\u001b[43m.\u001b[49m\u001b[43mdropna\u001b[49m\u001b[43m(\u001b[49m\u001b[43m)\u001b[49m\u001b[43m.\u001b[49m\u001b[43mplot\u001b[49m\u001b[43m(\u001b[49m\u001b[43mkind\u001b[49m\u001b[43m=\u001b[49m\u001b[33;43m'\u001b[39;49m\u001b[33;43mhist\u001b[39;49m\u001b[33;43m'\u001b[39;49m\u001b[43m,\u001b[49m\u001b[43m \u001b[49m\u001b[43mbins\u001b[49m\u001b[43m=\u001b[49m\u001b[32;43m30\u001b[39;49m\u001b[43m,\u001b[49m\u001b[43m \u001b[49m\u001b[43medgecolor\u001b[49m\u001b[43m=\u001b[49m\u001b[33;43m'\u001b[39;49m\u001b[33;43mblack\u001b[39;49m\u001b[33;43m'\u001b[39;49m\u001b[43m)\u001b[49m\n\u001b[32m      2\u001b[39m plt.title(\u001b[33m'\u001b[39m\u001b[33mDistribución de popularidad\u001b[39m\u001b[33m'\u001b[39m)\n\u001b[32m      3\u001b[39m plt.xlabel(\u001b[33m'\u001b[39m\u001b[33mpopularidad\u001b[39m\u001b[33m'\u001b[39m)\n",
      "\u001b[36mFile \u001b[39m\u001b[32m~/.local/lib/python3.12/site-packages/pandas/plotting/_core.py:1030\u001b[39m, in \u001b[36mPlotAccessor.__call__\u001b[39m\u001b[34m(self, *args, **kwargs)\u001b[39m\n\u001b[32m   1027\u001b[39m             label_name = label_kw \u001b[38;5;129;01mor\u001b[39;00m data.columns\n\u001b[32m   1028\u001b[39m             data.columns = label_name\n\u001b[32m-> \u001b[39m\u001b[32m1030\u001b[39m \u001b[38;5;28;01mreturn\u001b[39;00m \u001b[43mplot_backend\u001b[49m\u001b[43m.\u001b[49m\u001b[43mplot\u001b[49m\u001b[43m(\u001b[49m\u001b[43mdata\u001b[49m\u001b[43m,\u001b[49m\u001b[43m \u001b[49m\u001b[43mkind\u001b[49m\u001b[43m=\u001b[49m\u001b[43mkind\u001b[49m\u001b[43m,\u001b[49m\u001b[43m \u001b[49m\u001b[43m*\u001b[49m\u001b[43m*\u001b[49m\u001b[43mkwargs\u001b[49m\u001b[43m)\u001b[49m\n",
      "\u001b[36mFile \u001b[39m\u001b[32m~/.local/lib/python3.12/site-packages/pandas/plotting/_matplotlib/__init__.py:71\u001b[39m, in \u001b[36mplot\u001b[39m\u001b[34m(data, kind, **kwargs)\u001b[39m\n\u001b[32m     69\u001b[39m         kwargs[\u001b[33m\"\u001b[39m\u001b[33max\u001b[39m\u001b[33m\"\u001b[39m] = \u001b[38;5;28mgetattr\u001b[39m(ax, \u001b[33m\"\u001b[39m\u001b[33mleft_ax\u001b[39m\u001b[33m\"\u001b[39m, ax)\n\u001b[32m     70\u001b[39m plot_obj = PLOT_CLASSES[kind](data, **kwargs)\n\u001b[32m---> \u001b[39m\u001b[32m71\u001b[39m \u001b[43mplot_obj\u001b[49m\u001b[43m.\u001b[49m\u001b[43mgenerate\u001b[49m\u001b[43m(\u001b[49m\u001b[43m)\u001b[49m\n\u001b[32m     72\u001b[39m plot_obj.draw()\n\u001b[32m     73\u001b[39m \u001b[38;5;28;01mreturn\u001b[39;00m plot_obj.result\n",
      "\u001b[36mFile \u001b[39m\u001b[32m~/.local/lib/python3.12/site-packages/pandas/plotting/_matplotlib/core.py:499\u001b[39m, in \u001b[36mMPLPlot.generate\u001b[39m\u001b[34m(self)\u001b[39m\n\u001b[32m    497\u001b[39m \u001b[38;5;129m@final\u001b[39m\n\u001b[32m    498\u001b[39m \u001b[38;5;28;01mdef\u001b[39;00m\u001b[38;5;250m \u001b[39m\u001b[34mgenerate\u001b[39m(\u001b[38;5;28mself\u001b[39m) -> \u001b[38;5;28;01mNone\u001b[39;00m:\n\u001b[32m--> \u001b[39m\u001b[32m499\u001b[39m     \u001b[38;5;28;43mself\u001b[39;49m\u001b[43m.\u001b[49m\u001b[43m_compute_plot_data\u001b[49m\u001b[43m(\u001b[49m\u001b[43m)\u001b[49m\n\u001b[32m    500\u001b[39m     fig = \u001b[38;5;28mself\u001b[39m.fig\n\u001b[32m    501\u001b[39m     \u001b[38;5;28mself\u001b[39m._make_plot(fig)\n",
      "\u001b[36mFile \u001b[39m\u001b[32m~/.local/lib/python3.12/site-packages/pandas/plotting/_matplotlib/core.py:698\u001b[39m, in \u001b[36mMPLPlot._compute_plot_data\u001b[39m\u001b[34m(self)\u001b[39m\n\u001b[32m    696\u001b[39m \u001b[38;5;66;03m# no non-numeric frames or series allowed\u001b[39;00m\n\u001b[32m    697\u001b[39m \u001b[38;5;28;01mif\u001b[39;00m is_empty:\n\u001b[32m--> \u001b[39m\u001b[32m698\u001b[39m     \u001b[38;5;28;01mraise\u001b[39;00m \u001b[38;5;167;01mTypeError\u001b[39;00m(\u001b[33m\"\u001b[39m\u001b[33mno numeric data to plot\u001b[39m\u001b[33m\"\u001b[39m)\n\u001b[32m    700\u001b[39m \u001b[38;5;28mself\u001b[39m.data = numeric_data.apply(\u001b[38;5;28mtype\u001b[39m(\u001b[38;5;28mself\u001b[39m)._convert_to_ndarray)\n",
      "\u001b[31mTypeError\u001b[39m: no numeric data to plot"
     ]
    }
   ],
   "source": [
    "df['popularidad'].dropna().plot(kind='hist', bins=30, edgecolor='black')\n",
    "plt.title('Distribución de popularidad')\n",
    "plt.xlabel('popularidad')\n",
    "plt.ylabel('Frecuencia')\n",
    "plt.show()"
   ]
  },
  {
   "cell_type": "markdown",
   "id": "f0024687",
   "metadata": {},
   "source": [
    "*Interpretación: El histograma muestra la frecuencia de edades. Podemos ver la forma de la distribución y posibles sesgos.*"
   ]
  },
  {
   "cell_type": "markdown",
   "id": "56ee7529",
   "metadata": {},
   "source": [
    "### Gráfico 3: Boxplot de ingreso por género"
   ]
  },
  {
   "cell_type": "code",
   "execution_count": 7,
   "id": "e429c37c",
   "metadata": {},
   "outputs": [
    {
     "data": {
      "image/png": "[encoded data removed]",
      "text/plain": [
       "<Figure size 640x480 with 1 Axes>"
      ]
     },
     "metadata": {},
     "output_type": "display_data"
    }
   ],
   "source": [
    "df.boxplot(column='Ingreso', by='Genero')\n",
    "plt.title('Ingreso por Género')\n",
    "plt.suptitle('')\n",
    "plt.xlabel('Género')\n",
    "plt.ylabel('Ingreso mensual estimado')\n",
    "plt.show()"
   ]
  },
  {
   "cell_type": "markdown",
   "id": "c4b17847",
   "metadata": {},
   "source": [
    "*Interpretación: El boxplot permite comparar la distribución del ingreso entre grupos de género, y detectar posibles outliers.*"
   ]
  },
  {
   "cell_type": "markdown",
   "id": "196c0262",
   "metadata": {},
   "source": [
    "## 🧩 Cierre de la sesión y lo que viene\n",
    "**Conclusiones:**\n",
    "- Hoy exploramos un conjunto de datos reales e identificamos variables clave.\n",
    "- Visualizamos la distribución de género, edad e ingreso, y reflexionamos sobre su importancia.\n",
    "- Entendimos que la exploración inicial es esencial antes de aplicar modelos predictivos.\n",
    "\n",
    "**Próximamente (Sesión 2):**\n",
    "- Nos enfocaremos en la **preparación y limpieza de datos**, lo que incluye:\n",
    "  - Tratamiento de valores faltantes\n",
    "  - Codificación de variables categóricas\n",
    "  - Escalado de variables numéricas\n",
    "\n",
    "_Estas transformaciones son fundamentales para construir modelos confiables y efectivos._"
   ]
  }
 ],
 "metadata": {
  "kernelspec": {
   "display_name": "Python 3",
   "language": "python",
   "name": "python3"
  },
  "language_info": {
   "codemirror_mode": {
    "name": "ipython",
    "version": 3
   },
   "file_extension": ".py",
   "mimetype": "text/x-python",
   "name": "python",
   "nbconvert_exporter": "python",
   "pygments_lexer": "ipython3",
   "version": "3.12.1"
  }
 },
 "nbformat": 4,
 "nbformat_minor": 5
}
